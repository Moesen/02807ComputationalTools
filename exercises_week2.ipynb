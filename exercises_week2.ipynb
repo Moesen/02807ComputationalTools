{
  "cells": [
    {
      "cell_type": "markdown",
      "metadata": {
        "id": "vlMcbNUbMqnF"
      },
      "source": [
        "# 02807 - Week 2 Exercises\n"
      ]
    },
    {
      "cell_type": "markdown",
      "metadata": {
        "id": "asspwlX7zDcT"
      },
      "source": [
        "## Learning objectives:\n",
        "\n",
        "* Run Python code in Colab or Jupyter notebooks\n",
        "* Get hands-on experience storing, manipulating and extracting data efficiently with NumPy.\n",
        "* Perform optimised computations on arrays using NumPy’s vectorised functions. \n",
        "* Compare the performance of simple non-vectorised operations to vectorised one. \n"
      ]
    },
    {
      "cell_type": "markdown",
      "metadata": {
        "id": "kR68hOwCMyib"
      },
      "source": [
        "## Readings:\n",
        "\n",
        "### **Numpy**:\n",
        "\n",
        "Main reading:\n",
        "\n",
        "* [Chapter 2: Introduction to Numpy](https://jakevdp.github.io/PythonDataScienceHandbook/02.00-introduction-to-numpy.html). Python Data Science Handbook.\n",
        "\n",
        "Supplementary readings:\n",
        "\n",
        "* [A Visual Intro to NumPy and Data Representation](https://jalammar.github.io/visual-numpy/)\n",
        "* [Guide to NumPy resources: beginner, intermediate and advanced](https://e2eml.school/numpy_resources.html)\n",
        "\n"
      ]
    },
    {
      "cell_type": "markdown",
      "metadata": {
        "id": "eGU4JSS2_Eqt"
      },
      "source": [
        "## Exercise 1: importing NumPy"
      ]
    },
    {
      "cell_type": "markdown",
      "metadata": {
        "id": "6J0G_P33MqnM"
      },
      "source": [
        "### **1. Import numpy as np and print the version number**\n"
      ]
    },
    {
      "cell_type": "code",
      "execution_count": 2,
      "metadata": {
        "ExecuteTime": {
          "end_time": "2021-08-24T11:24:51.910643Z",
          "start_time": "2021-08-24T11:24:51.907156Z"
        },
        "id": "hDe2CpdbN8NJ"
      },
      "outputs": [
        {
          "name": "stdout",
          "output_type": "stream",
          "text": [
            "Solution\n"
          ]
        }
      ],
      "source": [
        "print(\"Solution\")\r\n",
        "import numpy as np"
      ]
    },
    {
      "cell_type": "markdown",
      "metadata": {
        "id": "iBFzmeuMMqnL"
      },
      "source": [
        "## Exercise 2: creating arrays"
      ]
    },
    {
      "cell_type": "markdown",
      "metadata": {
        "id": "j91-Dm6pMqnP"
      },
      "source": [
        "### a. Create a 1D array of numbers from 0 to 9\n",
        "\n",
        "Desired output: \n",
        "```\n",
        "Solution\n",
        "array([0, 1, 2, 3, 4, 5, 6, 7, 8, 9])\n",
        "```"
      ]
    },
    {
      "cell_type": "code",
      "execution_count": 5,
      "metadata": {
        "ExecuteTime": {
          "end_time": "2021-08-24T11:25:05.075212Z",
          "start_time": "2021-08-24T11:25:05.072383Z"
        },
        "id": "1G1W82myN8px"
      },
      "outputs": [
        {
          "name": "stdout",
          "output_type": "stream",
          "text": [
            "Solution\n",
            "[0 1 2 3 4 5 6 7 8 9]\n"
          ]
        }
      ],
      "source": [
        "print(\"Solution\")\r\n",
        "arr = np.linspace(0, 9, 10, dtype=np.int8)\r\n",
        "print(arr)"
      ]
    },
    {
      "cell_type": "markdown",
      "metadata": {
        "id": "IsLn7jBRMqnS"
      },
      "source": [
        "### b. Create a 3×3 Boolean array of all `True`’s\n",
        "\n",
        "Desired output: \n",
        "\n",
        "```\n",
        "array([[ True,  True,  True],\n",
        "       [ True,  True,  True],\n",
        "       [ True,  True,  True]])\n",
        "```"
      ]
    },
    {
      "cell_type": "code",
      "execution_count": 7,
      "metadata": {
        "ExecuteTime": {
          "end_time": "2021-08-24T11:25:05.777047Z",
          "start_time": "2021-08-24T11:25:05.774123Z"
        },
        "id": "U5LmrBkVN9OS"
      },
      "outputs": [
        {
          "name": "stdout",
          "output_type": "stream",
          "text": [
            "Solution\n",
            "[[ True  True  True]\n",
            " [ True  True  True]\n",
            " [ True  True  True]]\n"
          ]
        }
      ],
      "source": [
        "print(\"Solution\")\r\n",
        "arr = np.ones((3, 3), dtype=bool)\r\n",
        "print(arr)"
      ]
    },
    {
      "cell_type": "markdown",
      "metadata": {
        "id": "bBRYaurHQCr_"
      },
      "source": [
        "### c. Create a 5 x 3 x 4 array randomly filled with integers between 0 and 4, inclusive:\n",
        "\n",
        "hint: ``np.random.randint``\n",
        "\n",
        "Example of desired output:\n",
        "\n",
        "```\n",
        "array([[[3, 4, 0, 4],\n",
        "        [2, 3, 4, 4],\n",
        "        [0, 2, 4, 2]],\n",
        "\n",
        "       [[2, 1, 3, 0],\n",
        "        [4, 3, 2, 2],\n",
        "        [2, 1, 2, 4]],\n",
        "\n",
        "       [[3, 1, 1, 1],\n",
        "        [4, 4, 0, 1],\n",
        "        [0, 2, 3, 0]],\n",
        "\n",
        "       [[3, 0, 3, 3],\n",
        "        [4, 0, 3, 3],\n",
        "        [3, 3, 0, 1]],\n",
        "\n",
        "       [[3, 2, 2, 2],\n",
        "        [0, 1, 1, 4],\n",
        "        [4, 2, 1, 0]]])\n",
        "\n",
        "```"
      ]
    },
    {
      "cell_type": "code",
      "execution_count": 11,
      "metadata": {
        "ExecuteTime": {
          "end_time": "2021-08-24T11:25:07.135334Z",
          "start_time": "2021-08-24T11:25:07.131869Z"
        },
        "id": "NhxjWetqRGA7"
      },
      "outputs": [
        {
          "name": "stdout",
          "output_type": "stream",
          "text": [
            "Solution\n",
            "[[[0 3 1 0]\n",
            "  [1 2 1 2]\n",
            "  [2 1 0 1]]\n",
            "\n",
            " [[3 1 1 0]\n",
            "  [2 2 2 2]\n",
            "  [2 2 1 2]]\n",
            "\n",
            " [[3 0 2 2]\n",
            "  [0 2 3 2]\n",
            "  [2 3 1 3]]\n",
            "\n",
            " [[2 2 0 3]\n",
            "  [0 0 1 3]\n",
            "  [3 3 3 1]]\n",
            "\n",
            " [[2 1 3 3]\n",
            "  [2 2 1 0]\n",
            "  [1 3 1 3]]]\n"
          ]
        }
      ],
      "source": [
        "print(\"Solution\")\r\n",
        "arr = np.random.randint(0, 4, size=(5, 3, 4))\r\n",
        "print(arr)"
      ]
    },
    {
      "cell_type": "markdown",
      "metadata": {
        "id": "1NqSPwusPkXm"
      },
      "source": [
        "## Exercise 3: universal functions and vectorisation (part 1). Faster dot product."
      ]
    },
    {
      "cell_type": "markdown",
      "metadata": {
        "id": "S74ns2pqcR5m"
      },
      "source": [
        "The dot product is an algebraic operation which takes two equal-sized vectors and returns a single scalar. For two vectors $\\mathbf{x}$ and $\\mathbf{y}$, their dot product is defined as:\n",
        "\n",
        "$$\\mathbf{x} \\cdot \\mathbf{y} = \\sum_{i=1}^{n}x_iy_i = x_1y_1 + x_2y_2 + … + x_ny_n$$\n",
        "\n",
        "Let's consider the following vectors."
      ]
    },
    {
      "cell_type": "code",
      "execution_count": 15,
      "metadata": {
        "ExecuteTime": {
          "end_time": "2021-08-24T11:25:08.837868Z",
          "start_time": "2021-08-24T11:25:08.828921Z"
        },
        "id": "wSYQkN_5dmGN"
      },
      "outputs": [],
      "source": [
        "X = np.random.rand(100000)\n",
        "Y = np.random.rand(100000)"
      ]
    },
    {
      "cell_type": "markdown",
      "metadata": {
        "id": "lOg95GI1c-4j"
      },
      "source": [
        "In Python, one way to calulate the dot product is to iterate over the number of elements in the vectors, multiplying their $i$-th elements, and accumulating the result:"
      ]
    },
    {
      "cell_type": "code",
      "execution_count": 12,
      "metadata": {
        "ExecuteTime": {
          "end_time": "2021-08-24T11:25:10.473424Z",
          "start_time": "2021-08-24T11:25:10.469576Z"
        },
        "id": "XRFw_OUhc9td"
      },
      "outputs": [],
      "source": [
        "def dot_slow_1(x,y):\n",
        "    \"\"\"\"Dot product by looping over elements and multiplying them\"\"\"\n",
        "    s = 0 \n",
        "    for i in range(x.size):\n",
        "        s += x[i] * y[i]\n",
        "    return s"
      ]
    },
    {
      "cell_type": "markdown",
      "metadata": {
        "id": "BlJhCbEAeL4F"
      },
      "source": [
        "A more succinct and pythonic way to do this would be to use list comprehension:"
      ]
    },
    {
      "cell_type": "code",
      "execution_count": 13,
      "metadata": {
        "ExecuteTime": {
          "end_time": "2021-08-24T11:25:11.616061Z",
          "start_time": "2021-08-24T11:25:11.612850Z"
        },
        "id": "2y8021OCeV4B"
      },
      "outputs": [],
      "source": [
        "def dot_slow_2(x, y):\n",
        "    \"\"\"Dot product as sum of list comprehension doing element-wise multiplication\"\"\"\n",
        "    return sum(x_i * y_i for x_i, y_i in zip(x, y))"
      ]
    },
    {
      "cell_type": "markdown",
      "metadata": {
        "id": "kZWDHlQ0eoER"
      },
      "source": [
        "Let's look at the performance we get computing dot products in this way."
      ]
    },
    {
      "cell_type": "code",
      "execution_count": 16,
      "metadata": {
        "ExecuteTime": {
          "end_time": "2021-08-24T11:25:33.720110Z",
          "start_time": "2021-08-24T11:25:12.694785Z"
        },
        "id": "w-44zBdxe0o8"
      },
      "outputs": [
        {
          "name": "stdout",
          "output_type": "stream",
          "text": [
            "Time and memory use of dot_slow_1:\n",
            "17.3 ms ± 316 µs per loop (mean ± std. dev. of 7 runs, 100 loops each)\n",
            "Time and memory use of dot_slow_2:\n",
            "15 ms ± 303 µs per loop (mean ± std. dev. of 7 runs, 100 loops each)\n"
          ]
        }
      ],
      "source": [
        "print(\"Time and memory use of dot_slow_1:\")\n",
        "%timeit dot_slow_1(X, Y)\n",
        "\n",
        "print(\"Time and memory use of dot_slow_2:\")\n",
        "%timeit dot_slow_2(X, Y)"
      ]
    },
    {
      "cell_type": "markdown",
      "metadata": {
        "id": "cTWBbszTgQSo"
      },
      "source": [
        "### Use NumPy's vectorised operations to define a function that computes the dot product."
      ]
    },
    {
      "cell_type": "code",
      "execution_count": 17,
      "metadata": {
        "ExecuteTime": {
          "end_time": "2021-08-24T11:26:14.431111Z",
          "start_time": "2021-08-24T11:26:14.428474Z"
        },
        "id": "uBV7WCWSkv9p"
      },
      "outputs": [],
      "source": [
        "def my_dot(x, y):\r\n",
        "  return np.dot(x, y)\r\n",
        "  raise NotImplementedError"
      ]
    },
    {
      "cell_type": "markdown",
      "metadata": {
        "id": "ZgvRT9D-g7O-"
      },
      "source": [
        "Use `%timeit` to check the performance of your function. How much faster did we get with vectorisation? If you did things right, your solution should run in *µs*, running around 1000x faster per loop than the non-vectorised `dot_slow` functions."
      ]
    },
    {
      "cell_type": "code",
      "execution_count": 18,
      "metadata": {
        "ExecuteTime": {
          "end_time": "2021-08-24T11:26:00.579297Z",
          "start_time": "2021-08-24T11:25:56.670347Z"
        },
        "id": "DW8F7wXlhDks"
      },
      "outputs": [
        {
          "name": "stdout",
          "output_type": "stream",
          "text": [
            "Time and memory use of my_dot:\n",
            "184 µs ± 1.21 µs per loop (mean ± std. dev. of 7 runs, 10000 loops each)\n"
          ]
        }
      ],
      "source": [
        "print(\"Time and memory use of my_dot:\")\n",
        "%timeit my_dot(X, Y)"
      ]
    },
    {
      "cell_type": "markdown",
      "metadata": {
        "id": "dl5qy_6_D7C7"
      },
      "source": [
        "## Exercise 4: universal functions and vectorisation (part 2). Buying low, selling high."
      ]
    },
    {
      "cell_type": "markdown",
      "metadata": {
        "id": "ky6Ry2xaD_7c"
      },
      "source": [
        "Let's look at a more interesting problem. Here's a classic technical interview problem:\n",
        "\n",
        "> Given a stock’s price history as a sequence, and assuming that you are only allowed to make one purchase and one sale, what is the maximum profit that can be obtained? For example, given prices = (20, 18, 14, 17, 20, 21, 15), the max profit would be 7, from buying at 14 and selling at 21.\n",
        "\n"
      ]
    },
    {
      "cell_type": "markdown",
      "metadata": {
        "id": "PUL_QFBYEZaL"
      },
      "source": [
        "The straighforward solution, with $O(n^2)$ [time complexity](https://www.hackerearth.com/practice/basic-programming/complexity-analysis/time-and-space-complexity/tutorial/), consists of taking every combination of two consecutive prices and determining the maximum difference.\n",
        "\n",
        "However, there's also an $O(n)$ solution that consists of iterating through the sequence just once and finding the difference between each price and a running minimum. Here's an non-vectorised implementation:\n"
      ]
    },
    {
      "cell_type": "code",
      "execution_count": 19,
      "metadata": {
        "ExecuteTime": {
          "end_time": "2021-08-24T11:26:23.916166Z",
          "start_time": "2021-08-24T11:26:23.910095Z"
        },
        "id": "I2VvDQXcFFm6"
      },
      "outputs": [
        {
          "data": {
            "text/plain": [
              "7"
            ]
          },
          "execution_count": 19,
          "metadata": {},
          "output_type": "execute_result"
        }
      ],
      "source": [
        "def profit(prices):\n",
        "    max_price = 0\n",
        "    min_price = prices[0]\n",
        "    for price in prices[1:]:\n",
        "        min_price = min(min_price, price)\n",
        "        max_price = max(price - min_price, max_price)\n",
        "    return max_price\n",
        "\n",
        "prices = (20, 18, 14, 17, 20, 21, 15)\n",
        "profit(prices)"
      ]
    },
    {
      "cell_type": "markdown",
      "metadata": {
        "id": "_F33tzMjKodD"
      },
      "source": [
        "Can this be done faster in NumPy? Certainly. But first, let’s create a more realistic example (using, of course, some trusty NumPy functions!):"
      ]
    },
    {
      "cell_type": "code",
      "execution_count": 20,
      "metadata": {
        "ExecuteTime": {
          "end_time": "2021-08-24T11:26:24.683457Z",
          "start_time": "2021-08-24T11:26:24.677317Z"
        },
        "id": "UCCJp1BcK8te"
      },
      "outputs": [],
      "source": [
        "import numpy as np\n",
        "# Set seed for randn below\n",
        "np.random.seed(2)\n",
        "\n",
        "# Create mostly NaN array with a few 'turning points' (local min/max).\n",
        "prices = np.full(100, fill_value=np.nan)\n",
        "prices[[0, 10, 50, 80, -1]] = [80., 30., 50., 70., 40.]\n",
        "\n",
        "# Linearly interpolate the missing values and add some noise.\n",
        "x = np.arange(len(prices))\n",
        "is_valid = ~np.isnan(prices)\n",
        "prices = np.interp(x=x, xp=x[is_valid], fp=prices[is_valid])\n",
        "prices += np.random.randn(len(prices)) * 2"
      ]
    },
    {
      "cell_type": "code",
      "execution_count": 21,
      "metadata": {},
      "outputs": [
        {
          "name": "stdout",
          "output_type": "stream",
          "text": [
            "[79.16648431 74.88746635 65.72760781 68.28054162 56.41312883 53.31650527\n",
            " 51.00576283 42.50942383 37.88409556 33.18198477 31.10290809 35.08441603\n",
            " 31.08307879 29.26414911 33.07811664 31.3076806  32.96173901 35.85000244\n",
            " 32.5042581  34.5180505  33.24378421 35.18713166 36.5131409  34.5224419\n",
            " 36.32235607 37.02763194 36.72468998 36.12477543 36.15756555 39.19300961\n",
            " 39.46188608 44.96273358 36.13046485 41.72545301 42.74088907 45.21926773\n",
            " 44.00371441 41.81157259 44.00001952 45.58470514 44.37298361 47.04202348\n",
            " 42.26381869 49.96236933 49.93535602 46.82864532 49.22268156 48.59594118\n",
            " 47.34172942 49.67542044 52.00073177 49.90448163 50.58199449 51.85105847\n",
            " 53.53365933 55.89009179 52.73064139 55.68345915 55.76556535 52.28277523\n",
            " 55.8280337  57.06867554 57.92085952 59.31867353 55.25268724 60.09251105\n",
            " 59.31131551 58.45445528 63.04859286 64.13722582 62.0268328  65.68491256\n",
            " 63.9036337  65.46631135 63.80252211 69.83564078 62.01443442 67.81709475\n",
            " 70.05690588 65.26640024 69.62106147 68.2666153  68.49151127 67.75958374\n",
            " 62.87642599 59.33622582 63.26078664 61.38313969 56.44441036 56.49125067\n",
            " 54.97425878 53.76412983 51.46104754 52.28707669 44.41881783 48.39743738\n",
            " 45.49778605 42.7236242  43.92601037 35.31279362]\n"
          ]
        }
      ],
      "source": [
        "print(prices)"
      ]
    },
    {
      "cell_type": "markdown",
      "metadata": {
        "id": "fZa147G9LYuo"
      },
      "source": [
        "Let's look at the data with `matplotlib`. Don't worry if you don't get what goes on here. We'll learn how to use `matplotlib` for data visualisation in the coming weeks.\n",
        "\n",
        "The idea is to buy low (green) and sell high (red):"
      ]
    },
    {
      "cell_type": "code",
      "execution_count": 23,
      "metadata": {
        "ExecuteTime": {
          "end_time": "2021-08-24T11:26:26.146737Z",
          "start_time": "2021-08-24T11:26:25.908439Z"
        },
        "id": "44Yr3lwrLyO4"
      },
      "outputs": [
        {
          "data": {
            "image/png": "[encoded data removed]",
            "text/plain": [
              "<Figure size 640x480 with 1 Axes>"
            ]
          },
          "metadata": {},
          "output_type": "display_data"
        }
      ],
      "source": [
        "import matplotlib.pyplot as plt\n",
        "%matplotlib inline\n",
        "plt.style.use('classic')\n",
        "\n",
        "# Warning! This isn't a fully correct solution, but it works for now.\n",
        "# If the absolute min came after the absolute max, you'd have trouble.\n",
        "mn = np.argmin(prices)\n",
        "mx = mn + np.argmax(prices[mn:])\n",
        "kwargs = {'markersize': 8, 'linestyle': ''}\n",
        "\n",
        "fig, ax = plt.subplots()\n",
        "ax.plot(prices)\n",
        "ax.set_title('Price History')\n",
        "ax.set_xlabel('Time')\n",
        "ax.set_ylabel('Price')\n",
        "ax.plot(mn, prices[mn], marker='o', color='g', **kwargs)\n",
        "ax.plot(mx, prices[mx], marker='o', color='r', **kwargs)\n",
        "plt.show()"
      ]
    },
    {
      "cell_type": "markdown",
      "metadata": {
        "id": "OiHo8XSmN6Vq"
      },
      "source": [
        "What does a NumPy implementation look like? There is no `np.runmin()` that computes the running (or cumulative) minimum. However, NumPy’s universal functions (`ufunc`'s) all have an `accumulate()` method that does what its name implies:\n",
        "\n"
      ]
    },
    {
      "cell_type": "code",
      "execution_count": 24,
      "metadata": {
        "ExecuteTime": {
          "end_time": "2021-08-24T11:26:30.159176Z",
          "start_time": "2021-08-24T11:26:30.154010Z"
        },
        "id": "RlkpelVvN52x"
      },
      "outputs": [
        {
          "data": {
            "text/plain": [
              "array([10,  2,  2,  2,  2,  1,  1,  1], dtype=int32)"
            ]
          },
          "execution_count": 24,
          "metadata": {},
          "output_type": "execute_result"
        }
      ],
      "source": [
        "x = np.array([10,2,4,7,9,1,11,3])\n",
        "runmin = np.minimum.accumulate\n",
        "runmin(x)"
      ]
    },
    {
      "cell_type": "markdown",
      "metadata": {
        "id": "pldx1-_dO0o5"
      },
      "source": [
        "Use `runmin` and other NumPy functions to define your own version of the `profit` function. Keeping the logic from the pure-Python example, you can find the difference between each price and a running minimum (element-wise), and then take the max of this sequence:"
      ]
    },
    {
      "cell_type": "code",
      "execution_count": 28,
      "metadata": {
        "ExecuteTime": {
          "end_time": "2021-08-24T11:28:07.596870Z",
          "start_time": "2021-08-24T11:28:07.593892Z"
        },
        "id": "I7XT66pHPVoX"
      },
      "outputs": [],
      "source": [
        "def my_profit(prices):\r\n",
        "     \"\"\"Price minus cumulative minimum price, element-wise.\"\"\"\r\n",
        "     nmin = np.min(np.minimum.accumulate(prices))\r\n",
        "     nmax = np.max(np.maximum.accumulate(prices))\r\n",
        "     return nmax - nmin\r\n",
        "     raise NotImplementedError"
      ]
    },
    {
      "cell_type": "markdown",
      "metadata": {
        "id": "_INGV7hhPjR-"
      },
      "source": [
        "Let's see the time performance of the original `profit` function on our dataset."
      ]
    },
    {
      "cell_type": "code",
      "execution_count": 26,
      "metadata": {
        "ExecuteTime": {
          "end_time": "2021-08-24T11:28:10.700519Z",
          "start_time": "2021-08-24T11:28:08.941646Z"
        },
        "id": "3_O06vi6Pi8o"
      },
      "outputs": [
        {
          "name": "stdout",
          "output_type": "stream",
          "text": [
            "The maximum profit is 40.79275676698767\n",
            "21.6 µs ± 122 ns per loop (mean ± std. dev. of 7 runs, 10000 loops each)\n"
          ]
        }
      ],
      "source": [
        "print(\"The maximum profit is\", profit(prices))\n",
        "%timeit profit(prices)"
      ]
    },
    {
      "cell_type": "markdown",
      "metadata": {
        "id": "E4sxZBf8Q8_M"
      },
      "source": [
        "How does `my_profit` compare? Your NumPy solution should do at least as well as the pure-Python solution over this small dataset (we're working with 100 data points). "
      ]
    },
    {
      "cell_type": "code",
      "execution_count": 29,
      "metadata": {
        "ExecuteTime": {
          "end_time": "2021-08-24T11:28:12.424653Z",
          "start_time": "2021-08-24T11:28:10.701490Z"
        },
        "id": "eN0pJf-fRHAv"
      },
      "outputs": [
        {
          "name": "stdout",
          "output_type": "stream",
          "text": [
            "The maximum profit is 49.90233519541609\n",
            "5.47 µs ± 152 ns per loop (mean ± std. dev. of 7 runs, 100000 loops each)\n"
          ]
        }
      ],
      "source": [
        "print(\"The maximum profit is\", my_profit(prices))\n",
        "%timeit my_profit(prices)"
      ]
    },
    {
      "cell_type": "markdown",
      "metadata": {
        "id": "nWt829s7UynP"
      },
      "source": [
        "\n",
        "\n",
        "Over a large dataset, you'll normally see significant performance differences. Our implementation of `my_profit` typically runs about 50x faster than `profit` over a random dataset with 1.000.000 datapoints. Do you get comparable results?"
      ]
    },
    {
      "cell_type": "code",
      "execution_count": 30,
      "metadata": {
        "ExecuteTime": {
          "end_time": "2021-08-24T11:28:20.241357Z",
          "start_time": "2021-08-24T11:28:15.007711Z"
        },
        "id": "E22QwoY_T75p"
      },
      "outputs": [
        {
          "name": "stdout",
          "output_type": "stream",
          "text": [
            "186 ms ± 2.29 ms per loop (mean ± std. dev. of 7 runs, 10 loops each)\n",
            "6.76 ms ± 212 µs per loop (mean ± std. dev. of 7 runs, 100 loops each)\n"
          ]
        }
      ],
      "source": [
        "rand_seq = np.random.randint(0, 100, size=1000000)\n",
        "%timeit profit(rand_seq)\n",
        "%timeit my_profit(rand_seq)"
      ]
    },
    {
      "cell_type": "markdown",
      "metadata": {
        "id": "DoQANtj0zb-K"
      },
      "source": [
        "## Exercise 5: extracting information from arrays"
      ]
    },
    {
      "cell_type": "markdown",
      "metadata": {
        "id": "ICjxUjGPbWGY"
      },
      "source": [
        "Let's extract some potentially useful information from our `prices` dataset.\n"
      ]
    },
    {
      "cell_type": "markdown",
      "metadata": {
        "id": "KzmBoMA6MqnV"
      },
      "source": [
        "### a. Let's find all values in a given range. Extract all prices with values between 45 and 65 from the first 10 prices in `prices`.\n"
      ]
    },
    {
      "cell_type": "code",
      "execution_count": null,
      "metadata": {
        "id": "WNRXvalvMqnW"
      },
      "outputs": [],
      "source": [
        "print(\"First 10 prices\")\n",
        "prices_small = prices[:10]\n",
        "prices_small"
      ]
    },
    {
      "cell_type": "code",
      "execution_count": 37,
      "metadata": {
        "id": "9zunr4MgXNeN"
      },
      "outputs": [
        {
          "name": "stdout",
          "output_type": "stream",
          "text": [
            "Solution\n",
            "[56.41312883 53.31650527 51.00576283 45.21926773 45.58470514 47.04202348\n",
            " 49.96236933 49.93535602 46.82864532 49.22268156 48.59594118 47.34172942\n",
            " 49.67542044 52.00073177 49.90448163 50.58199449 51.85105847 53.53365933\n",
            " 55.89009179 52.73064139 55.68345915 55.76556535 52.28277523 55.8280337\n",
            " 57.06867554 57.92085952 59.31867353 55.25268724 60.09251105 59.31131551\n",
            " 58.45445528 63.04859286 64.13722582 62.0268328  63.9036337  63.80252211\n",
            " 62.01443442 62.87642599 59.33622582 63.26078664 61.38313969 56.44441036\n",
            " 56.49125067 54.97425878 53.76412983 51.46104754 52.28707669 48.39743738\n",
            " 45.49778605]\n"
          ]
        }
      ],
      "source": [
        "print(\"Solution\")\r\n",
        "idx = np.where((prices >=45) & (prices <= 65))\r\n",
        "prices_rng = prices[idx]\r\n",
        "print(prices_rng)"
      ]
    },
    {
      "cell_type": "markdown",
      "metadata": {
        "id": "zXoWSEVHMqnZ"
      },
      "source": [
        "### b. Let's say that you want to buy in the first time the price drops below 30. Let's find the first occurence of a value meeting a condition. \n",
        "\n",
        "Hint: use `np.argwhere`."
      ]
    },
    {
      "cell_type": "code",
      "execution_count": 40,
      "metadata": {
        "id": "TvvC6AXHco4w"
      },
      "outputs": [
        {
          "name": "stdout",
          "output_type": "stream",
          "text": [
            "Solution\n",
            "[13]\n"
          ]
        }
      ],
      "source": [
        "# Solution\r\n",
        "print(\"Solution\")\r\n",
        "first = np.where(prices < 30)[0]\r\n",
        "print(first)"
      ]
    },
    {
      "cell_type": "markdown",
      "metadata": {
        "id": "LZ4E40E5eDuo"
      },
      "source": [
        "### c. Let's get the *positions* and *values* of the top 5 prices overall. Use NumPy only to extract this information.\n",
        "\n",
        "Hint: Use `np.argwhere` along with `np.percentile`, or sort and slice arrays"
      ]
    },
    {
      "cell_type": "code",
      "execution_count": 44,
      "metadata": {
        "id": "uQrGQdS5ezMb"
      },
      "outputs": [
        {
          "name": "stdout",
          "output_type": "stream",
          "text": [
            "Positions of the top 5 prices\n",
            "Values of the top 5 prices\n",
            "[79.16648431 74.88746635 70.05690588 69.83564078 69.62106147]\n"
          ]
        }
      ],
      "source": [
        "# Solution\r\n",
        "print(\"Positions of the top 5 prices\")  \r\n",
        "idx = np.argpartition(-prices, 5)\r\n",
        "\r\n",
        "print(\"Values of the top 5 prices\")\r\n",
        "max_prices = prices[idx[:5]]\r\n",
        "print(max_prices)"
      ]
    },
    {
      "cell_type": "markdown",
      "metadata": {
        "id": "-4SR8lt-gNzV"
      },
      "source": [
        "### d. Let's get some summary statistics. Print the mean, median and standard deviation of the list of prices.\n",
        "\n",
        "The desired output is:\n",
        "\n",
        "```\n",
        "Mean, median and standard deviation: 50.770589574397285 50.45810666998631 12.125291517615116\n",
        "```"
      ]
    },
    {
      "cell_type": "code",
      "execution_count": 46,
      "metadata": {
        "id": "02D7NUS1gqKe"
      },
      "outputs": [
        {
          "name": "stdout",
          "output_type": "stream",
          "text": [
            "50.3425177322348\n",
            "50.27218190956815\n",
            "11.948370999142766\n"
          ]
        }
      ],
      "source": [
        "# Solution\r\n",
        "print(np.mean(prices))\r\n",
        "print(np.median(prices))\r\n",
        "print(np.std(prices))"
      ]
    },
    {
      "cell_type": "markdown",
      "metadata": {
        "id": "ZaaJ9NL4MqqC"
      },
      "source": [
        "### e. Finally, let's find all the local maxima in the `prices` array. \n",
        "\n",
        "If you are up for the challenge, you can try to use NumPy functions only. Consider first how to achieve a boolean mask reflecting which `prices` are greater than the previous occurences. Then greater than the proceeding occurences. Using these two masks, it is possible to obtain the indices \n",
        "\n",
        "Otherwise, the package `scipy.signal` offers a nice function called `find_peaks`."
      ]
    },
    {
      "cell_type": "code",
      "execution_count": 51,
      "metadata": {
        "id": "c3QgjgrihvXB"
      },
      "outputs": [],
      "source": [
        "# Solution\r\n"
      ]
    },
    {
      "cell_type": "markdown",
      "metadata": {
        "id": "byvmRmyqkvnj"
      },
      "source": [
        "Here are the maxima found with `scipy`."
      ]
    },
    {
      "cell_type": "code",
      "execution_count": 52,
      "metadata": {
        "id": "4GwaVTACkzoV"
      },
      "outputs": [],
      "source": [
        "from scipy.signal import find_peaks\n",
        "\n",
        "peaks, _ = find_peaks(prices, height=0)"
      ]
    },
    {
      "cell_type": "markdown",
      "metadata": {
        "id": "hD2-stM7iPLv"
      },
      "source": [
        "If you store the local maxima in a variable called `peaks`, the following plot will mark them in green."
      ]
    },
    {
      "cell_type": "code",
      "execution_count": 53,
      "metadata": {
        "id": "2WJOpihHiEsK"
      },
      "outputs": [
        {
          "data": {
            "image/png": "[encoded data removed]",
            "text/plain": [
              "<Figure size 640x480 with 1 Axes>"
            ]
          },
          "metadata": {},
          "output_type": "display_data"
        }
      ],
      "source": [
        "kwargs = {'markersize': 8, 'linestyle': ''}\n",
        "\n",
        "fig, ax = plt.subplots()\n",
        "ax.plot(prices)\n",
        "ax.set_title('Price History')\n",
        "ax.set_xlabel('Time')\n",
        "ax.set_ylabel('Price')\n",
        "ax.plot(peaks, prices[peaks], marker='o', color='g', **kwargs)\n",
        "plt.show()"
      ]
    }
  ],
  "metadata": {
    "colab": {
      "collapsed_sections": [],
      "name": "exercises_week2.ipynb",
      "provenance": []
    },
    "interpreter": {
      "hash": "e162172a3fd1cc8ea950e06820750796e38c8b7537f1ea6862cf475430fe2de8"
    },
    "kernelspec": {
      "display_name": "Python 3.9.1 64-bit ('venv': venv)",
      "name": "python3"
    },
    "language_info": {
      "name": "python",
      "version": ""
    },
    "toc": {
      "base_numbering": 1,
      "nav_menu": {},
      "number_sections": true,
      "sideBar": true,
      "skip_h1_title": false,
      "title_cell": "Table of Contents",
      "title_sidebar": "Contents",
      "toc_cell": false,
      "toc_position": {},
      "toc_section_display": true,
      "toc_window_display": true
    }
  },
  "nbformat": 4,
  "nbformat_minor": 0
}